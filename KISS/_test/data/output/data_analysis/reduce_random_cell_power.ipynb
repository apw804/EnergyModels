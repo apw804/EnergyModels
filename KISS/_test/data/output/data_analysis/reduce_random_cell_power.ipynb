{
 "cells": [
  {
   "attachments": {},
   "cell_type": "markdown",
   "metadata": {},
   "source": [
    "# Reduce Random Cell Power\n",
    "\n",
    "This experiment randomly turned down the power of a cell. This notebook looks to visualise the results."
   ]
  },
  {
   "cell_type": "code",
   "execution_count": null,
   "metadata": {},
   "outputs": [],
   "source": [
    "import pandas as pd\n",
    "import numpy as np\n",
    "import matplotlib.pyplot as plt\n",
    "import seaborn as sns\n",
    "%matplotlib inline\n",
    "df = pd.read_feather('/Users/apw804/dev-02/EnergyModels/KISS/_test/data/output/process_kiss/test_process_kiss_2023_03_14T14_02_10.fea')\n"
   ]
  },
  {
   "cell_type": "code",
   "execution_count": null,
   "metadata": {},
   "outputs": [],
   "source": [
    "# Define the columns and metrics to analyze\n",
    "columns = ['cell_throughput(Mb/s)', 'cell_power(kW)', 'cell_ee(bits/J)', 'cell_se(bits/Hz)']\n",
    "metrics = ['mean', 'std']"
   ]
  },
  {
   "cell_type": "code",
   "execution_count": null,
   "metadata": {},
   "outputs": [],
   "source": [
    "# Calculate the mean and standard deviation for each column\n",
    "results = []\n",
    "for col in columns:\n",
    "    col_stats = df.groupby(['serving_cell_id', 'sc_power(dBm)'])[col].agg(metrics)\n",
    "    col_stats.columns = [f'{col}_{metric}' for metric in metrics]\n",
    "    results.append(col_stats)\n",
    "\n",
    "# Combine the results into a single DataFrame\n",
    "stats_df = pd.concat(results, axis=1)\n",
    "\n",
    "# Display the results\n",
    "display(stats_df)\n"
   ]
  }
 ],
 "metadata": {
  "kernelspec": {
   "display_name": "dev_AIMMv2.0.2",
   "language": "python",
   "name": "python3"
  },
  "language_info": {
   "codemirror_mode": {
    "name": "ipython",
    "version": 3
   },
   "file_extension": ".py",
   "mimetype": "text/x-python",
   "name": "python",
   "nbconvert_exporter": "python",
   "pygments_lexer": "ipython3",
   "version": "3.11.0"
  },
  "orig_nbformat": 4
 },
 "nbformat": 4,
 "nbformat_minor": 2
}
