{
 "cells": [
  {
   "attachments": {},
   "cell_type": "markdown",
   "metadata": {},
   "source": [
    "# Reduce Centre Cell Power"
   ]
  },
  {
   "attachments": {},
   "cell_type": "markdown",
   "metadata": {},
   "source": [
    "#### **Introduction**\n",
    "\n",
    "To assess the baseline energy consumption for mobile operator networks running\n",
    "5G NR SA, this document sets out a scenario for a 5G NR network comprised of a \n",
    "19 cell sites arranged in a hexagonal grid with an intersite distance of 1500m.\n",
    "\n",
    "<!--It isn't but it should be \"The scenario is based on the 5G NR SA baseline scenario defined in 3GPP TS 38.101\" -->\n",
    "\n",
    "**Scenario definition** :\n",
    "[reduce_cell_centre_power.json](KISS/data/input/reduce_centre_cell_power/reduce_centre_cell_power.json).\n",
    "\n",
    "**Source files** :\n",
    "[KISS/data/output/reduce_centre_cell_power](KISS/data/output/reduce_centre_cell_power)."
   ]
  },
  {
   "cell_type": "code",
   "execution_count": 19,
   "metadata": {},
   "outputs": [
    {
     "name": "stdout",
     "output_type": "stream",
     "text": [
      "Current directory path:/Users/apw804/dev-02/EnergyModels/KISS/data/analysis\n",
      "Project directory path:/Users/apw804/dev-02/EnergyModels/KISS\n"
     ]
    }
   ],
   "source": [
    "from sys import path as sys_path\n",
    "import numpy as np\n",
    "import matplotlib.pyplot as plt\n",
    "import pandas as pd\n",
    "import seaborn as sns\n",
    "from pathlib import Path\n",
    "import subprocess\n",
    "%matplotlib inline\n",
    "\n",
    "# Check current working directory\n",
    "path = Path.cwd()\n",
    "print(f'Current directory path:{path}')\n",
    "\n",
    "# Get the project directory\n",
    "kiss_path = path.parents[1]\n",
    "kiss_path_str = str(kiss_path)\n",
    "print(f'Project directory path:{kiss_path}')\n",
    "\n",
    "# Add the project directory to the system path\n",
    "sys_path.append(kiss_path_str)"
   ]
  },
  {
   "attachments": {},
   "cell_type": "markdown",
   "metadata": {},
   "source": [
    "### **Process raw files**\n",
    "Concatenate all the individual tsv files into one DataFrame.\n",
    "```"
   ]
  },
  {
   "cell_type": "code",
   "execution_count": 23,
   "metadata": {},
   "outputs": [],
   "source": [
    "# Directory containing the TSV files\n",
    "tsv_dir = kiss_path / 'data' / 'output' / 'reduce_centre_cell_power' / '2023_03_17' / 'Attempt_003'\n",
    "\n",
    "# For each tsv file in the directory read the file into a DataFrame and append to a list\n",
    "df_list = []\n",
    "for tsv_file in tsv_dir.glob('*.tsv'):\n",
    "    df_temp = pd.read_csv(tsv_file, sep='\\t')\n",
    "    df_list.append(df_temp)\n",
    "\n",
    "# Concatenate the list of DataFrames into a single DataFrame\n",
    "df = pd.concat(df_list)"
   ]
  },
  {
   "cell_type": "code",
   "execution_count": 43,
   "metadata": {},
   "outputs": [
    {
     "data": {
      "text/html": [
       "<div>\n",
       "<style scoped>\n",
       "    .dataframe tbody tr th:only-of-type {\n",
       "        vertical-align: middle;\n",
       "    }\n",
       "\n",
       "    .dataframe tbody tr th {\n",
       "        vertical-align: top;\n",
       "    }\n",
       "\n",
       "    .dataframe thead th {\n",
       "        text-align: right;\n",
       "    }\n",
       "</style>\n",
       "<table border=\"1\" class=\"dataframe\">\n",
       "  <thead>\n",
       "    <tr style=\"text-align: right;\">\n",
       "      <th></th>\n",
       "      <th>seed</th>\n",
       "      <th>time</th>\n",
       "      <th>serving_cell_id</th>\n",
       "      <th>serving_cell_sleep_mode</th>\n",
       "      <th>ue_id</th>\n",
       "      <th>distance_to_cell(m)</th>\n",
       "      <th>ue_throughput(Mb/s)</th>\n",
       "      <th>sc_power(dBm)</th>\n",
       "      <th>sc_rsrp(dBm)</th>\n",
       "      <th>neighbour1_rsrp(dBm)</th>\n",
       "      <th>neighbour2_rsrp(dBm)</th>\n",
       "      <th>noise_power(dBm)</th>\n",
       "      <th>sinr(dB)</th>\n",
       "      <th>cqi</th>\n",
       "      <th>mcs</th>\n",
       "      <th>cell_throughput(Mb/s)</th>\n",
       "      <th>cell_power(kW)</th>\n",
       "      <th>cell_ee(bits/J)</th>\n",
       "      <th>cell_se(bits/Hz)</th>\n",
       "    </tr>\n",
       "  </thead>\n",
       "  <tbody>\n",
       "    <tr>\n",
       "      <th>5</th>\n",
       "      <td>0</td>\n",
       "      <td>1</td>\n",
       "      <td>0</td>\n",
       "      <td>0</td>\n",
       "      <td>21</td>\n",
       "      <td>725.627686</td>\n",
       "      <td>0.4902</td>\n",
       "      <td>43.0</td>\n",
       "      <td>-92.949921</td>\n",
       "      <td>-96.251625</td>\n",
       "      <td>-98.650361</td>\n",
       "      <td>-118</td>\n",
       "      <td>0.681403</td>\n",
       "      <td>2.0</td>\n",
       "      <td>3</td>\n",
       "      <td>20.8086</td>\n",
       "      <td>1.921914</td>\n",
       "      <td>10827.017652</td>\n",
       "      <td>2.08086</td>\n",
       "    </tr>\n",
       "    <tr>\n",
       "      <th>5</th>\n",
       "      <td>0</td>\n",
       "      <td>1</td>\n",
       "      <td>0</td>\n",
       "      <td>0</td>\n",
       "      <td>21</td>\n",
       "      <td>725.627686</td>\n",
       "      <td>0.4902</td>\n",
       "      <td>43.0</td>\n",
       "      <td>-92.949921</td>\n",
       "      <td>-96.251625</td>\n",
       "      <td>-98.650361</td>\n",
       "      <td>-118</td>\n",
       "      <td>0.655830</td>\n",
       "      <td>2.0</td>\n",
       "      <td>3</td>\n",
       "      <td>20.8086</td>\n",
       "      <td>1.921914</td>\n",
       "      <td>10827.017652</td>\n",
       "      <td>2.08086</td>\n",
       "    </tr>\n",
       "    <tr>\n",
       "      <th>5</th>\n",
       "      <td>0</td>\n",
       "      <td>1</td>\n",
       "      <td>0</td>\n",
       "      <td>0</td>\n",
       "      <td>21</td>\n",
       "      <td>725.627686</td>\n",
       "      <td>0.4902</td>\n",
       "      <td>43.0</td>\n",
       "      <td>-92.949921</td>\n",
       "      <td>-96.251625</td>\n",
       "      <td>-98.650361</td>\n",
       "      <td>-118</td>\n",
       "      <td>0.661392</td>\n",
       "      <td>2.0</td>\n",
       "      <td>3</td>\n",
       "      <td>20.8086</td>\n",
       "      <td>1.921914</td>\n",
       "      <td>10827.017652</td>\n",
       "      <td>2.08086</td>\n",
       "    </tr>\n",
       "    <tr>\n",
       "      <th>5</th>\n",
       "      <td>0</td>\n",
       "      <td>1</td>\n",
       "      <td>0</td>\n",
       "      <td>0</td>\n",
       "      <td>21</td>\n",
       "      <td>725.627686</td>\n",
       "      <td>0.4902</td>\n",
       "      <td>43.0</td>\n",
       "      <td>-92.949921</td>\n",
       "      <td>-96.251625</td>\n",
       "      <td>-98.650361</td>\n",
       "      <td>-118</td>\n",
       "      <td>0.703988</td>\n",
       "      <td>2.0</td>\n",
       "      <td>3</td>\n",
       "      <td>20.8086</td>\n",
       "      <td>1.921914</td>\n",
       "      <td>10827.017652</td>\n",
       "      <td>2.08086</td>\n",
       "    </tr>\n",
       "    <tr>\n",
       "      <th>5</th>\n",
       "      <td>0</td>\n",
       "      <td>1</td>\n",
       "      <td>0</td>\n",
       "      <td>0</td>\n",
       "      <td>21</td>\n",
       "      <td>725.627686</td>\n",
       "      <td>0.4902</td>\n",
       "      <td>43.0</td>\n",
       "      <td>-92.949921</td>\n",
       "      <td>-96.251625</td>\n",
       "      <td>-98.650361</td>\n",
       "      <td>-118</td>\n",
       "      <td>0.699060</td>\n",
       "      <td>2.0</td>\n",
       "      <td>3</td>\n",
       "      <td>20.8086</td>\n",
       "      <td>1.921914</td>\n",
       "      <td>10827.017652</td>\n",
       "      <td>2.08086</td>\n",
       "    </tr>\n",
       "  </tbody>\n",
       "</table>\n",
       "</div>"
      ],
      "text/plain": [
       "   seed  time  serving_cell_id  serving_cell_sleep_mode  ue_id  \\\n",
       "5     0     1                0                        0     21   \n",
       "5     0     1                0                        0     21   \n",
       "5     0     1                0                        0     21   \n",
       "5     0     1                0                        0     21   \n",
       "5     0     1                0                        0     21   \n",
       "\n",
       "   distance_to_cell(m)  ue_throughput(Mb/s)  sc_power(dBm)  sc_rsrp(dBm)  \\\n",
       "5           725.627686               0.4902           43.0    -92.949921   \n",
       "5           725.627686               0.4902           43.0    -92.949921   \n",
       "5           725.627686               0.4902           43.0    -92.949921   \n",
       "5           725.627686               0.4902           43.0    -92.949921   \n",
       "5           725.627686               0.4902           43.0    -92.949921   \n",
       "\n",
       "   neighbour1_rsrp(dBm)  neighbour2_rsrp(dBm)  noise_power(dBm)  sinr(dB)  \\\n",
       "5            -96.251625            -98.650361              -118  0.681403   \n",
       "5            -96.251625            -98.650361              -118  0.655830   \n",
       "5            -96.251625            -98.650361              -118  0.661392   \n",
       "5            -96.251625            -98.650361              -118  0.703988   \n",
       "5            -96.251625            -98.650361              -118  0.699060   \n",
       "\n",
       "   cqi  mcs  cell_throughput(Mb/s)  cell_power(kW)  cell_ee(bits/J)  \\\n",
       "5  2.0    3                20.8086        1.921914     10827.017652   \n",
       "5  2.0    3                20.8086        1.921914     10827.017652   \n",
       "5  2.0    3                20.8086        1.921914     10827.017652   \n",
       "5  2.0    3                20.8086        1.921914     10827.017652   \n",
       "5  2.0    3                20.8086        1.921914     10827.017652   \n",
       "\n",
       "   cell_se(bits/Hz)  \n",
       "5           2.08086  \n",
       "5           2.08086  \n",
       "5           2.08086  \n",
       "5           2.08086  \n",
       "5           2.08086  "
      ]
     },
     "execution_count": 43,
     "metadata": {},
     "output_type": "execute_result"
    }
   ],
   "source": [
    "# What do the first 5 rows of the DataFrame look like?\n",
    "df.head()"
   ]
  },
  {
   "cell_type": "code",
   "execution_count": 45,
   "metadata": {},
   "outputs": [
    {
     "data": {
      "text/plain": [
       "(1080000, 19)"
      ]
     },
     "execution_count": 45,
     "metadata": {},
     "output_type": "execute_result"
    }
   ],
   "source": [
    "# What does the shape look like?\n",
    "df.shape"
   ]
  },
  {
   "cell_type": "code",
   "execution_count": 46,
   "metadata": {},
   "outputs": [
    {
     "name": "stdout",
     "output_type": "stream",
     "text": [
      "<class 'pandas.core.frame.DataFrame'>\n",
      "Int64Index: 1080000 entries, 5 to 393\n",
      "Data columns (total 19 columns):\n",
      " #   Column                   Non-Null Count    Dtype  \n",
      "---  ------                   --------------    -----  \n",
      " 0   seed                     1080000 non-null  int64  \n",
      " 1   time                     1080000 non-null  int64  \n",
      " 2   serving_cell_id          1080000 non-null  int64  \n",
      " 3   serving_cell_sleep_mode  1080000 non-null  int64  \n",
      " 4   ue_id                    1080000 non-null  int64  \n",
      " 5   distance_to_cell(m)      1080000 non-null  float64\n",
      " 6   ue_throughput(Mb/s)      1080000 non-null  float64\n",
      " 7   sc_power(dBm)            1080000 non-null  float64\n",
      " 8   sc_rsrp(dBm)             1080000 non-null  float64\n",
      " 9   neighbour1_rsrp(dBm)     1080000 non-null  float64\n",
      " 10  neighbour2_rsrp(dBm)     1080000 non-null  float64\n",
      " 11  noise_power(dBm)         1080000 non-null  int64  \n",
      " 12  sinr(dB)                 1080000 non-null  float64\n",
      " 13  cqi                      1080000 non-null  float64\n",
      " 14  mcs                      1080000 non-null  int64  \n",
      " 15  cell_throughput(Mb/s)    1080000 non-null  float64\n",
      " 16  cell_power(kW)           1080000 non-null  float64\n",
      " 17  cell_ee(bits/J)          1080000 non-null  float64\n",
      " 18  cell_se(bits/Hz)         1080000 non-null  float64\n",
      "dtypes: float64(12), int64(7)\n",
      "memory usage: 164.8 MB\n"
     ]
    }
   ],
   "source": [
    "# And the info?\n",
    "df.info()"
   ]
  },
  {
   "cell_type": "code",
   "execution_count": 48,
   "metadata": {},
   "outputs": [
    {
     "data": {
      "text/plain": [
       "(17, 19)"
      ]
     },
     "execution_count": 48,
     "metadata": {},
     "output_type": "execute_result"
    }
   ],
   "source": [
    "# There is a LOT of noise here. I'll start with the basics for one DataFrame\n",
    "# and then I'll try to figure out how to do it for all of them.\n",
    "\n",
    "# Get the data for seed value 0 and sc_power(dBm) value 30.0\n",
    "df_s000_p30 = df[(df['seed'] == 0) & (df['sc_power(dBm)'] == 30.0)]\n",
    "\n",
    "# This SHOULD be a dataframe with 16 rows (+1 for the column names)\n",
    "df_s000_p30.shape"
   ]
  },
  {
   "cell_type": "code",
   "execution_count": null,
   "metadata": {},
   "outputs": [],
   "source": [
    "# Let's see whatthe whole frame looks like\n",
    "display(df_s000_p30)"
   ]
  },
  {
   "cell_type": "code",
   "execution_count": 42,
   "metadata": {},
   "outputs": [
    {
     "data": {
      "text/plain": [
       "seed                         100\n",
       "time                           1\n",
       "serving_cell_id               19\n",
       "serving_cell_sleep_mode        1\n",
       "ue_id                        400\n",
       "distance_to_cell(m)         3152\n",
       "ue_throughput(Mb/s)          352\n",
       "sc_power(dBm)                 27\n",
       "sc_rsrp(dBm)                3594\n",
       "neighbour1_rsrp(dBm)        3291\n",
       "neighbour2_rsrp(dBm)        3602\n",
       "noise_power(dBm)               1\n",
       "sinr(dB)                   13552\n",
       "cqi                           16\n",
       "mcs                           16\n",
       "cell_throughput(Mb/s)        199\n",
       "cell_power(kW)                27\n",
       "cell_ee(bits/J)              199\n",
       "cell_se(bits/Hz)             199\n",
       "dtype: int64"
      ]
     },
     "execution_count": 42,
     "metadata": {},
     "output_type": "execute_result"
    }
   ],
   "source": [
    "# Okat that's weird. What does the data look like?\n",
    "df_s000_p30.nunique()"
   ]
  },
  {
   "cell_type": "code",
   "execution_count": null,
   "metadata": {},
   "outputs": [],
   "source": []
  },
  {
   "cell_type": "code",
   "execution_count": 24,
   "metadata": {},
   "outputs": [
    {
     "name": "stdout",
     "output_type": "stream",
     "text": [
      "<class 'pandas.core.frame.DataFrame'>\n",
      "Int64Index: 1080000 entries, 0 to 399\n",
      "Data columns (total 19 columns):\n",
      " #   Column                   Non-Null Count    Dtype  \n",
      "---  ------                   --------------    -----  \n",
      " 0   seed                     1080000 non-null  int64  \n",
      " 1   time                     1080000 non-null  int64  \n",
      " 2   serving_cell_id          1080000 non-null  int64  \n",
      " 3   serving_cell_sleep_mode  1080000 non-null  int64  \n",
      " 4   ue_id                    1080000 non-null  int64  \n",
      " 5   distance_to_cell(m)      1080000 non-null  float64\n",
      " 6   ue_throughput(Mb/s)      1080000 non-null  float64\n",
      " 7   sc_power(dBm)            1080000 non-null  float64\n",
      " 8   sc_rsrp(dBm)             1080000 non-null  float64\n",
      " 9   neighbour1_rsrp(dBm)     1080000 non-null  float64\n",
      " 10  neighbour2_rsrp(dBm)     1080000 non-null  float64\n",
      " 11  noise_power(dBm)         1080000 non-null  int64  \n",
      " 12  sinr(dB)                 1080000 non-null  float64\n",
      " 13  cqi                      1080000 non-null  float64\n",
      " 14  mcs                      1080000 non-null  int64  \n",
      " 15  cell_throughput(Mb/s)    1080000 non-null  float64\n",
      " 16  cell_power(kW)           1080000 non-null  float64\n",
      " 17  cell_ee(bits/J)          1080000 non-null  float64\n",
      " 18  cell_se(bits/Hz)         1080000 non-null  float64\n",
      "dtypes: float64(12), int64(7)\n",
      "memory usage: 164.8 MB\n"
     ]
    }
   ],
   "source": [
    "# Lets get an overview of the data\n",
    "df.info()"
   ]
  },
  {
   "cell_type": "code",
   "execution_count": 25,
   "metadata": {},
   "outputs": [
    {
     "data": {
      "text/plain": [
       "seed                           100\n",
       "time                             1\n",
       "serving_cell_id                 19\n",
       "serving_cell_sleep_mode          1\n",
       "ue_id                          400\n",
       "distance_to_cell(m)          40000\n",
       "ue_throughput(Mb/s)            635\n",
       "sc_power(dBm)                   27\n",
       "sc_rsrp(dBm)                111994\n",
       "neighbour1_rsrp(dBm)         56589\n",
       "neighbour2_rsrp(dBm)         84779\n",
       "noise_power(dBm)                 1\n",
       "sinr(dB)                   1080000\n",
       "cqi                             16\n",
       "mcs                             16\n",
       "cell_throughput(Mb/s)         9695\n",
       "cell_power(kW)                  27\n",
       "cell_ee(bits/J)               9763\n",
       "cell_se(bits/Hz)              9696\n",
       "dtype: int64"
      ]
     },
     "execution_count": 25,
     "metadata": {},
     "output_type": "execute_result"
    }
   ],
   "source": [
    "# Print the number of unique values in each column\n",
    "df.nunique()"
   ]
  },
  {
   "cell_type": "code",
   "execution_count": 26,
   "metadata": {},
   "outputs": [
    {
     "data": {
      "text/plain": [
       "(1080000, 19)"
      ]
     },
     "execution_count": 26,
     "metadata": {},
     "output_type": "execute_result"
    }
   ],
   "source": [
    "# Let's get the shape the DataFrame\n",
    "df.shape"
   ]
  },
  {
   "cell_type": "code",
   "execution_count": 28,
   "metadata": {},
   "outputs": [
    {
     "data": {
      "text/plain": [
       "Index(['seed', 'time', 'serving_cell_id', 'serving_cell_sleep_mode', 'ue_id',\n",
       "       'distance_to_cell(m)', 'ue_throughput(Mb/s)', 'sc_power(dBm)',\n",
       "       'sc_rsrp(dBm)', 'neighbour1_rsrp(dBm)', 'neighbour2_rsrp(dBm)',\n",
       "       'noise_power(dBm)', 'sinr(dB)', 'cqi', 'mcs', 'cell_throughput(Mb/s)',\n",
       "       'cell_power(kW)', 'cell_ee(bits/J)', 'cell_se(bits/Hz)'],\n",
       "      dtype='object')"
      ]
     },
     "execution_count": 28,
     "metadata": {},
     "output_type": "execute_result"
    }
   ],
   "source": [
    "# What do the columns look like?\n",
    "df.columns"
   ]
  },
  {
   "cell_type": "code",
   "execution_count": 29,
   "metadata": {},
   "outputs": [
    {
     "data": {
      "text/plain": [
       "Int64Index([  0,   1,   2,   3,   4,   5,   6,   7,   8,   9,\n",
       "            ...\n",
       "            390, 391, 392, 393, 394, 395, 396, 397, 398, 399],\n",
       "           dtype='int64', length=1080000)"
      ]
     },
     "execution_count": 29,
     "metadata": {},
     "output_type": "execute_result"
    }
   ],
   "source": [
    "# What does the index look like?\n",
    "df.index"
   ]
  },
  {
   "cell_type": "code",
   "execution_count": null,
   "metadata": {},
   "outputs": [],
   "source": []
  },
  {
   "cell_type": "code",
   "execution_count": null,
   "metadata": {},
   "outputs": [],
   "source": [
    "#  "
   ]
  },
  {
   "cell_type": "code",
   "execution_count": 10,
   "metadata": {},
   "outputs": [
    {
     "data": {
      "text/html": [
       "<div>\n",
       "<style scoped>\n",
       "    .dataframe tbody tr th:only-of-type {\n",
       "        vertical-align: middle;\n",
       "    }\n",
       "\n",
       "    .dataframe tbody tr th {\n",
       "        vertical-align: top;\n",
       "    }\n",
       "\n",
       "    .dataframe thead th {\n",
       "        text-align: right;\n",
       "    }\n",
       "</style>\n",
       "<table border=\"1\" class=\"dataframe\">\n",
       "  <thead>\n",
       "    <tr style=\"text-align: right;\">\n",
       "      <th></th>\n",
       "      <th>index</th>\n",
       "      <th>seed</th>\n",
       "      <th>time</th>\n",
       "      <th>serving_cell_id</th>\n",
       "      <th>serving_cell_sleep_mode</th>\n",
       "      <th>ue_id</th>\n",
       "      <th>distance_to_cell(m)</th>\n",
       "      <th>ue_throughput(Mb/s)</th>\n",
       "      <th>sc_power(dBm)</th>\n",
       "      <th>sc_rsrp(dBm)</th>\n",
       "      <th>neighbour1_rsrp(dBm)</th>\n",
       "      <th>neighbour2_rsrp(dBm)</th>\n",
       "      <th>noise_power(dBm)</th>\n",
       "      <th>sinr(dB)</th>\n",
       "      <th>cqi</th>\n",
       "      <th>mcs</th>\n",
       "      <th>cell_throughput(Mb/s)</th>\n",
       "      <th>cell_power(kW)</th>\n",
       "      <th>cell_ee(bits/J)</th>\n",
       "      <th>cell_se(bits/Hz)</th>\n",
       "    </tr>\n",
       "  </thead>\n",
       "  <tbody>\n",
       "    <tr>\n",
       "      <th>10800</th>\n",
       "      <td>11607</td>\n",
       "      <td>1</td>\n",
       "      <td>1</td>\n",
       "      <td>0</td>\n",
       "      <td>0</td>\n",
       "      <td>48</td>\n",
       "      <td>332.555178</td>\n",
       "      <td>2.555615</td>\n",
       "      <td>43.0</td>\n",
       "      <td>-79.738874</td>\n",
       "      <td>-101.032757</td>\n",
       "      <td>-103.947262</td>\n",
       "      <td>-118</td>\n",
       "      <td>18.293571</td>\n",
       "      <td>11.0</td>\n",
       "      <td>20</td>\n",
       "      <td>24.480231</td>\n",
       "      <td>1.921914</td>\n",
       "      <td>12737.420617</td>\n",
       "      <td>2.448023</td>\n",
       "    </tr>\n",
       "    <tr>\n",
       "      <th>10801</th>\n",
       "      <td>24007</td>\n",
       "      <td>1</td>\n",
       "      <td>1</td>\n",
       "      <td>0</td>\n",
       "      <td>0</td>\n",
       "      <td>48</td>\n",
       "      <td>332.555178</td>\n",
       "      <td>2.555615</td>\n",
       "      <td>43.0</td>\n",
       "      <td>-79.738874</td>\n",
       "      <td>-101.032757</td>\n",
       "      <td>-103.947262</td>\n",
       "      <td>-118</td>\n",
       "      <td>18.304899</td>\n",
       "      <td>11.0</td>\n",
       "      <td>20</td>\n",
       "      <td>24.480231</td>\n",
       "      <td>1.921914</td>\n",
       "      <td>12737.420617</td>\n",
       "      <td>2.448023</td>\n",
       "    </tr>\n",
       "    <tr>\n",
       "      <th>10802</th>\n",
       "      <td>52407</td>\n",
       "      <td>1</td>\n",
       "      <td>1</td>\n",
       "      <td>0</td>\n",
       "      <td>0</td>\n",
       "      <td>48</td>\n",
       "      <td>332.555178</td>\n",
       "      <td>2.555615</td>\n",
       "      <td>43.0</td>\n",
       "      <td>-79.738874</td>\n",
       "      <td>-101.032757</td>\n",
       "      <td>-103.947262</td>\n",
       "      <td>-118</td>\n",
       "      <td>18.315826</td>\n",
       "      <td>11.0</td>\n",
       "      <td>20</td>\n",
       "      <td>24.480231</td>\n",
       "      <td>1.921914</td>\n",
       "      <td>12737.420617</td>\n",
       "      <td>2.448023</td>\n",
       "    </tr>\n",
       "    <tr>\n",
       "      <th>10803</th>\n",
       "      <td>79607</td>\n",
       "      <td>1</td>\n",
       "      <td>1</td>\n",
       "      <td>0</td>\n",
       "      <td>0</td>\n",
       "      <td>48</td>\n",
       "      <td>332.555178</td>\n",
       "      <td>2.555615</td>\n",
       "      <td>43.0</td>\n",
       "      <td>-79.738874</td>\n",
       "      <td>-101.032757</td>\n",
       "      <td>-103.947262</td>\n",
       "      <td>-118</td>\n",
       "      <td>18.298891</td>\n",
       "      <td>11.0</td>\n",
       "      <td>20</td>\n",
       "      <td>24.480231</td>\n",
       "      <td>1.921914</td>\n",
       "      <td>12737.420617</td>\n",
       "      <td>2.448023</td>\n",
       "    </tr>\n",
       "    <tr>\n",
       "      <th>10804</th>\n",
       "      <td>93207</td>\n",
       "      <td>1</td>\n",
       "      <td>1</td>\n",
       "      <td>0</td>\n",
       "      <td>0</td>\n",
       "      <td>48</td>\n",
       "      <td>332.555178</td>\n",
       "      <td>2.555615</td>\n",
       "      <td>43.0</td>\n",
       "      <td>-79.738874</td>\n",
       "      <td>-101.032757</td>\n",
       "      <td>-103.947262</td>\n",
       "      <td>-118</td>\n",
       "      <td>18.303121</td>\n",
       "      <td>11.0</td>\n",
       "      <td>20</td>\n",
       "      <td>24.480231</td>\n",
       "      <td>1.921914</td>\n",
       "      <td>12737.420617</td>\n",
       "      <td>2.448023</td>\n",
       "    </tr>\n",
       "  </tbody>\n",
       "</table>\n",
       "</div>"
      ],
      "text/plain": [
       "       index  seed  time  serving_cell_id  serving_cell_sleep_mode  ue_id  \\\n",
       "10800  11607     1     1                0                        0     48   \n",
       "10801  24007     1     1                0                        0     48   \n",
       "10802  52407     1     1                0                        0     48   \n",
       "10803  79607     1     1                0                        0     48   \n",
       "10804  93207     1     1                0                        0     48   \n",
       "\n",
       "       distance_to_cell(m)  ue_throughput(Mb/s)  sc_power(dBm)  sc_rsrp(dBm)  \\\n",
       "10800           332.555178             2.555615           43.0    -79.738874   \n",
       "10801           332.555178             2.555615           43.0    -79.738874   \n",
       "10802           332.555178             2.555615           43.0    -79.738874   \n",
       "10803           332.555178             2.555615           43.0    -79.738874   \n",
       "10804           332.555178             2.555615           43.0    -79.738874   \n",
       "\n",
       "       neighbour1_rsrp(dBm)  neighbour2_rsrp(dBm)  noise_power(dBm)  \\\n",
       "10800           -101.032757           -103.947262              -118   \n",
       "10801           -101.032757           -103.947262              -118   \n",
       "10802           -101.032757           -103.947262              -118   \n",
       "10803           -101.032757           -103.947262              -118   \n",
       "10804           -101.032757           -103.947262              -118   \n",
       "\n",
       "        sinr(dB)   cqi  mcs  cell_throughput(Mb/s)  cell_power(kW)  \\\n",
       "10800  18.293571  11.0   20              24.480231        1.921914   \n",
       "10801  18.304899  11.0   20              24.480231        1.921914   \n",
       "10802  18.315826  11.0   20              24.480231        1.921914   \n",
       "10803  18.298891  11.0   20              24.480231        1.921914   \n",
       "10804  18.303121  11.0   20              24.480231        1.921914   \n",
       "\n",
       "       cell_ee(bits/J)  cell_se(bits/Hz)  \n",
       "10800     12737.420617          2.448023  \n",
       "10801     12737.420617          2.448023  \n",
       "10802     12737.420617          2.448023  \n",
       "10803     12737.420617          2.448023  \n",
       "10804     12737.420617          2.448023  "
      ]
     },
     "execution_count": 10,
     "metadata": {},
     "output_type": "execute_result"
    }
   ],
   "source": [
    "# Get rows of DataFrame where seed = 1\n",
    "df_s001 = df[df['seed'] == 1]\n",
    "\n",
    "df_s001.head()"
   ]
  },
  {
   "cell_type": "code",
   "execution_count": null,
   "metadata": {},
   "outputs": [],
   "source": [
    "# Get the rows for serving_cell_id = 0\n",
    "cell_0 = df_copy[df_copy['serving_cell_id'] == 0]\n",
    "\n",
    "# Get the rows for sc_power = 43dBm\n",
    "cell_0_p43 = cell_0[cell_0['sc_power(dBm)'] == 43.0]\n",
    "\n",
    "\n",
    "cell_0_p43.show()\n"
   ]
  },
  {
   "cell_type": "code",
   "execution_count": null,
   "metadata": {},
   "outputs": [],
   "source": [
    "# Get the mean throughput and standard deviation for each serving_cell_id\n",
    "cell_throughput_mean_std = df_copy.groupby('serving_cell_id')['cell_throughput(Mb/s)'].agg(['mean', 'std'])\n",
    "display(cell_throughput_mean_std)\n",
    "\n",
    "plt.hist()"
   ]
  },
  {
   "cell_type": "code",
   "execution_count": null,
   "metadata": {},
   "outputs": [],
   "source": []
  }
 ],
 "metadata": {
  "kernelspec": {
   "display_name": "dev_AIMMv2.0.2",
   "language": "python",
   "name": "python3"
  },
  "language_info": {
   "codemirror_mode": {
    "name": "ipython",
    "version": 3
   },
   "file_extension": ".py",
   "mimetype": "text/x-python",
   "name": "python",
   "nbconvert_exporter": "python",
   "pygments_lexer": "ipython3",
   "version": "3.10.9"
  },
  "orig_nbformat": 4
 },
 "nbformat": 4,
 "nbformat_minor": 2
}
