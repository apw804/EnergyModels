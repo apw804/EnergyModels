{
 "cells": [
  {
   "cell_type": "markdown",
   "metadata": {},
   "source": [
    "# Reduce Centre Cell Power"
   ]
  },
  {
   "cell_type": "markdown",
   "metadata": {},
   "source": [
    "#### **Introduction**\n",
    "\n",
    "To assess the baseline energy consumption for mobile operator networks running\n",
    "5G NR SA, this document sets out a scenario for a 5G NR network comprised of a \n",
    "19 cell sites arranged in a hexagonal grid with an intersite distance of 1500m.\n",
    "\n",
    "<!--It isn't but it should be \"The scenario is based on the 5G NR SA baseline scenario defined in 3GPP TS 38.101\" -->\n",
    "\n",
    "**Scenario definition** :\n",
    "[reduce_cell_centre_power.json](KISS/data/input/reduce_centre_cell_power/reduce_centre_cell_power.json).\n",
    "\n",
    "**Source files** :\n",
    "[KISS/data/output/reduce_centre_cell_power](KISS/data/output/reduce_centre_cell_power)."
   ]
  },
  {
   "cell_type": "code",
   "execution_count": null,
   "metadata": {},
   "outputs": [],
   "source": [
    "from sys import path as sys_path\n",
    "import numpy as np\n",
    "import matplotlib.pyplot as plt\n",
    "import pandas as pd\n",
    "import seaborn as sns\n",
    "from pathlib import Path\n",
    "import subprocess\n",
    "%matplotlib inline\n",
    "\n",
    "# Check current working directory\n",
    "path = Path.cwd()\n",
    "print(f'Current directory path:{path}')\n",
    "\n",
    "# Get the project directory\n",
    "kiss_path = path.parents[1]\n",
    "kiss_path_str = str(kiss_path)\n",
    "print(f'Project directory path:{kiss_path}')\n",
    "\n",
    "# Add the project directory to the system path\n",
    "sys_path.append(kiss_path_str)"
   ]
  },
  {
   "cell_type": "markdown",
   "metadata": {},
   "source": [
    "### **Process raw files**\n",
    "Concatenate all the individual tsv files into one DataFrame.\n",
    "```"
   ]
  },
  {
   "cell_type": "code",
   "execution_count": null,
   "metadata": {},
   "outputs": [],
   "source": [
    "# Directory containing the TSV files\n",
    "tsv_dir = kiss_path / 'data' / 'output' / 'reduce_centre_cell_power' / '2023_03_17' / 'Attempt_003'\n",
    "\n",
    "# For each tsv file in the directory read the file into a DataFrame and append to a list\n",
    "df_list = []\n",
    "for tsv_file in tsv_dir.glob('*.tsv'):\n",
    "    df_temp = pd.read_csv(tsv_file, sep='\\t')\n",
    "    df_list.append(df_temp)\n",
    "\n",
    "# Concatenate the list of DataFrames into a single DataFrame\n",
    "df = pd.concat(df_list)"
   ]
  },
  {
   "cell_type": "code",
   "execution_count": null,
   "metadata": {},
   "outputs": [],
   "source": [
    "# What do the first 5 rows of the DataFrame look like?\n",
    "df.head()"
   ]
  },
  {
   "cell_type": "code",
   "execution_count": null,
   "metadata": {},
   "outputs": [],
   "source": [
    "# What does the shape look like?\n",
    "df.shape"
   ]
  },
  {
   "cell_type": "code",
   "execution_count": null,
   "metadata": {},
   "outputs": [],
   "source": [
    "# And the info?\n",
    "df.info()"
   ]
  },
  {
   "cell_type": "code",
   "execution_count": null,
   "metadata": {},
   "outputs": [],
   "source": [
    "# There is a LOT of noise here. I'll start with the basics for one DataFrame\n",
    "# and then I'll try to figure out how to do it for all of them.\n",
    "\n",
    "# Get the data for seed value 0 and sc_power(dBm) value 30.0\n",
    "df_s000_p30 = df[(df['seed'] == 0) & (df['sc_power(dBm)'] == 30.0)]\n",
    "\n",
    "# This SHOULD be a dataframe with 16 rows (+1 for the column names)\n",
    "df_s000_p30.shape"
   ]
  },
  {
   "cell_type": "code",
   "execution_count": null,
   "metadata": {},
   "outputs": [],
   "source": [
    "# Let's see whatthe whole frame looks like\n",
    "display(df_s000_p30)"
   ]
  },
  {
   "cell_type": "code",
   "execution_count": null,
   "metadata": {},
   "outputs": [],
   "source": [
    "# Reorder by ue_id\n",
    "df_s000_p30_sorted = df_s000_p30.sort_values('ue_id').copy()\n"
   ]
  },
  {
   "cell_type": "markdown",
   "metadata": {},
   "source": [
    "What we're really interested in here is the cell_throughput, cell_power, cell_ee and cell_se, which is all the same for serving_cell_id = 9 at seed = 0.\n",
    "\n",
    "So a good summary row for serving cell 9 at seed 0 might have the columns:\n",
    "\n",
    "seed, time, serving_cell_id, **n_ues_attached, mean_distance_to_cell, mean_ue_throughput,** sc_power, **mean_sc_rsrp, mean_sinr, mean_cqi, mean_mcs**, cell_throughput, cell_power, cell_ee, cell_se\n",
    "\n",
    "The columns to calculate are therefore the ones above in **bold**. "
   ]
  },
  {
   "cell_type": "code",
   "execution_count": null,
   "metadata": {},
   "outputs": [],
   "source": [
    "# Get the number of unique ue_ids in the DataFrame\n",
    "n_ues_attached = df_s000_p30_sorted['ue_id'].nunique()\n",
    "\n",
    "print(n_ues_attached)"
   ]
  },
  {
   "cell_type": "code",
   "execution_count": null,
   "metadata": {},
   "outputs": [],
   "source": [
    "# Now group by serving_cell_id and get the mean for distance_to_cell, ue_throughput(Mb/s), sc_rsrp, sinr, cqi and mcs\n",
    "df_s000_p30_sorted_col_means = df_s000_p30_sorted.groupby(\"serving_cell_id\")[[\"distance_to_cell(m)\", \"sc_rsrp(dBm)\", \"sinr(dB)\", \"cqi\", \"mcs\"]].agg('mean')"
   ]
  },
  {
   "cell_type": "code",
   "execution_count": null,
   "metadata": {},
   "outputs": [],
   "source": [
    "df_s000_p30_sorted_col_means.add_prefix('mean_')"
   ]
  },
  {
   "cell_type": "code",
   "execution_count": null,
   "metadata": {},
   "outputs": [],
   "source": [
    "df_s000_p30_sorted_col_means.insert(0, [\"seed\",\"time\",\"cell_id\",\"n_ues\"], [df_s000_p30[['seed','time','cell_id']], n_ues_attached])"
   ]
  },
  {
   "cell_type": "code",
   "execution_count": null,
   "metadata": {},
   "outputs": [],
   "source": [
    "display(df_s000_p30_sorted_col_means)"
   ]
  },
  {
   "cell_type": "code",
   "execution_count": null,
   "metadata": {},
   "outputs": [],
   "source": []
  }
 ],
 "metadata": {
  "kernelspec": {
   "display_name": "Python 3 (ipykernel)",
   "language": "python",
   "name": "python3"
  },
  "language_info": {
   "codemirror_mode": {
    "name": "ipython",
    "version": 3
   },
   "file_extension": ".py",
   "mimetype": "text/x-python",
   "name": "python",
   "nbconvert_exporter": "python",
   "pygments_lexer": "ipython3",
   "version": "3.10.9"
  }
 },
 "nbformat": 4,
 "nbformat_minor": 2
}
